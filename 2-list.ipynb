{
 "cells": [
  {
   "cell_type": "markdown",
   "metadata": {},
   "source": [
    "### 2. მონაცემთა სტრუქტურა სია ###\n"
   ]
  },
  {
   "cell_type": "markdown",
   "metadata": {},
   "source": []
  },
  {
   "cell_type": "code",
   "execution_count": null,
   "metadata": {},
   "outputs": [],
   "source": [
    "a = list() # ||| პირველი გზა, ფუნქციით ||| ცარიელი სიის შექმნა და ცვლად a ში შენახვა "
   ]
  },
  {
   "cell_type": "code",
   "execution_count": 3,
   "metadata": {},
   "outputs": [],
   "source": [
    "a = [] #||| მეორე გზა, კვადრატული ფრჩხილებიით ||| ცარიელი სიის შექმნა და ცვლად a ში შენახვა "
   ]
  },
  {
   "cell_type": "markdown",
   "metadata": {},
   "source": [
    "#### საჭირო ფუნქციები"
   ]
  },
  {
   "cell_type": "code",
   "execution_count": 4,
   "metadata": {},
   "outputs": [
    {
     "name": "stdout",
     "output_type": "stream",
     "text": [
      "[20]\n"
     ]
    }
   ],
   "source": [
    "a.append(14)\n",
    "a.pop()\n",
    "a.insert(0,20)\n",
    "\n",
    "print(a)"
   ]
  },
  {
   "cell_type": "code",
   "execution_count": 8,
   "metadata": {},
   "outputs": [
    {
     "name": "stdout",
     "output_type": "stream",
     "text": [
      "orange apple pear banana kiwi apple banana\n"
     ]
    }
   ],
   "source": [
    "fruits = ['orange', 'apple', 'pear', 'banana', 'kiwi', 'apple', 'banana']\n",
    "print(*fruits)"
   ]
  },
  {
   "cell_type": "code",
   "execution_count": 11,
   "metadata": {},
   "outputs": [
    {
     "name": "stdout",
     "output_type": "stream",
     "text": [
      "69.7\n"
     ]
    }
   ],
   "source": [
    "objects = [128,\"GEORGIA\",\"+995\", 69.700, 6,8,2,3,4,6,]\n",
    "\n",
    "print( objects[3] )"
   ]
  },
  {
   "cell_type": "code",
   "execution_count": 13,
   "metadata": {},
   "outputs": [
    {
     "name": "stdout",
     "output_type": "stream",
     "text": [
      "7\n"
     ]
    }
   ],
   "source": [
    "fruits = ['orange', 'apple', 'pear', 'banana', 'kiwi', 'apple', 'banana']\n",
    "\n",
    "print(len(fruits))\n"
   ]
  },
  {
   "cell_type": "code",
   "execution_count": 17,
   "metadata": {},
   "outputs": [
    {
     "name": "stdout",
     "output_type": "stream",
     "text": [
      "[0, 1, 8, 27, 64, 125, 216, 343, 512, 729, 1000, 1331, 1728, 2197, 2744]\n",
      "[0, 1, 8, 27, 64, 125, 216, 343, 512, 729, 1000, 1331]\n"
     ]
    }
   ],
   "source": [
    "sia = []\n",
    "for i in range(15):\n",
    "    sia.append(i**3)\n",
    "print(sia)\n",
    "sia.pop()\n",
    "sia.pop()\n",
    "sia.pop()\n",
    "print(sia)"
   ]
  },
  {
   "cell_type": "code",
   "execution_count": 20,
   "metadata": {},
   "outputs": [
    {
     "name": "stdout",
     "output_type": "stream",
     "text": [
      "-196\n",
      "-193\n",
      "-190\n",
      "-187\n",
      "-184\n",
      "-181\n",
      "-178\n",
      "-175\n",
      "-172\n",
      "-169\n",
      "-166\n",
      "-163\n",
      "-160\n",
      "-157\n",
      "-154\n",
      "-151\n",
      "-148\n",
      "-145\n",
      "-142\n",
      "-139\n",
      "-136\n",
      "-133\n",
      "-130\n",
      "-127\n",
      "-124\n",
      "-121\n",
      "-118\n",
      "-115\n",
      "-112\n",
      "-109\n",
      "-106\n",
      "-103\n",
      "-100\n",
      "-97\n",
      "-94\n",
      "-91\n",
      "-88\n",
      "-85\n",
      "-82\n",
      "-79\n",
      "-76\n",
      "-73\n",
      "-70\n",
      "-67\n",
      "-64\n",
      "-61\n",
      "-58\n",
      "-55\n",
      "-52\n",
      "-49\n",
      "-46\n",
      "-43\n",
      "-40\n",
      "-37\n",
      "-34\n",
      "-31\n",
      "-28\n",
      "-25\n",
      "-22\n",
      "-19\n",
      "-16\n",
      "-13\n",
      "-10\n",
      "-7\n",
      "-4\n",
      "-1\n",
      "2\n",
      "5\n",
      "8\n"
     ]
    }
   ],
   "source": [
    "for i in range(-196,10,3):\n",
    "    print(i)"
   ]
  }
 ],
 "metadata": {
  "kernelspec": {
   "display_name": "Python 3.10.7 64-bit",
   "language": "python",
   "name": "python3"
  },
  "language_info": {
   "codemirror_mode": {
    "name": "ipython",
    "version": 3
   },
   "file_extension": ".py",
   "mimetype": "text/x-python",
   "name": "python",
   "nbconvert_exporter": "python",
   "pygments_lexer": "ipython3",
   "version": "3.10.7"
  },
  "orig_nbformat": 4,
  "vscode": {
   "interpreter": {
    "hash": "307e50677b26ebbd040de79599be88962b957af781b2bd0b1267821b823c5d50"
   }
  }
 },
 "nbformat": 4,
 "nbformat_minor": 2
}
