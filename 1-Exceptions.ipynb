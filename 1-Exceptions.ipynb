{
 "cells": [
  {
   "cell_type": "markdown",
   "metadata": {},
   "source": [
    "# 1. შეცდომების დამუშავება"
   ]
  },
  {
   "cell_type": "markdown",
   "metadata": {},
   "source": [
    "## ---------------------------------------------------------------"
   ]
  },
  {
   "cell_type": "markdown",
   "metadata": {},
   "source": []
  },
  {
   "cell_type": "markdown",
   "metadata": {},
   "source": [
    "__პირველი მაგალითი:__"
   ]
  },
  {
   "cell_type": "code",
   "execution_count": 5,
   "metadata": {},
   "outputs": [
    {
     "name": "stdout",
     "output_type": "stream",
     "text": [
      "Second element = 2\n",
      "An error occurred\n",
      "შეიყვანე სწორი ინდექსი გთხოვ!\n"
     ]
    }
   ],
   "source": [
    "a = [1, 2, 3]\n",
    "try: \n",
    "    print (\"Second element = %d\" %(a[1]))\n",
    "    \n",
    "    \n",
    "    # print (\"Fourth element = %d\" %(a[3])) #კითხვა ნ2 ის კოდი\n",
    "    \n",
    "    # Throws error since there are only 3 elements in array\n",
    "    print (\"Fourth element = %d\" %(a[3]))\n",
    "    \n",
    "except:\n",
    "    print (\"An error occurred\"+'\\n'+\"შეიყვანე სწორი ინდექსი გთხოვ!\")"
   ]
  },
  {
   "cell_type": "code",
   "execution_count": 3,
   "metadata": {},
   "outputs": [
    {
     "name": "stdout",
     "output_type": "stream",
     "text": [
      "Second element = 2\n"
     ]
    },
    {
     "ename": "IndexError",
     "evalue": "list index out of range",
     "output_type": "error",
     "traceback": [
      "\u001b[1;31m---------------------------------------------------------------------------\u001b[0m",
      "\u001b[1;31mIndexError\u001b[0m                                Traceback (most recent call last)",
      "\u001b[1;32md:\\Scripts\\Algorithmics II\\1-Exceptions.ipynb Cell 6\u001b[0m in \u001b[0;36m<cell line: 9>\u001b[1;34m()\u001b[0m\n\u001b[0;32m      <a href='vscode-notebook-cell:/d%3A/Scripts/Algorithmics%20II/1-Exceptions.ipynb#X15sZmlsZQ%3D%3D?line=2'>3</a>\u001b[0m \u001b[39mprint\u001b[39m (\u001b[39m\"\u001b[39m\u001b[39mSecond element = \u001b[39m\u001b[39m%d\u001b[39;00m\u001b[39m\"\u001b[39m \u001b[39m%\u001b[39m(a[\u001b[39m1\u001b[39m]))\n\u001b[0;32m      <a href='vscode-notebook-cell:/d%3A/Scripts/Algorithmics%20II/1-Exceptions.ipynb#X15sZmlsZQ%3D%3D?line=5'>6</a>\u001b[0m     \u001b[39m# print (\"Fourth element = %d\" %(a[3])) #კითხვა ნ2 ის კოდი\u001b[39;00m\n\u001b[0;32m      <a href='vscode-notebook-cell:/d%3A/Scripts/Algorithmics%20II/1-Exceptions.ipynb#X15sZmlsZQ%3D%3D?line=6'>7</a>\u001b[0m     \n\u001b[0;32m      <a href='vscode-notebook-cell:/d%3A/Scripts/Algorithmics%20II/1-Exceptions.ipynb#X15sZmlsZQ%3D%3D?line=7'>8</a>\u001b[0m     \u001b[39m# Throws error since there are only 3 elements in array\u001b[39;00m\n\u001b[1;32m----> <a href='vscode-notebook-cell:/d%3A/Scripts/Algorithmics%20II/1-Exceptions.ipynb#X15sZmlsZQ%3D%3D?line=8'>9</a>\u001b[0m \u001b[39mprint\u001b[39m (\u001b[39m\"\u001b[39m\u001b[39mFourth element = \u001b[39m\u001b[39m%d\u001b[39;00m\u001b[39m\"\u001b[39m \u001b[39m%\u001b[39m(a[\u001b[39m3\u001b[39;49m]))\n",
      "\u001b[1;31mIndexError\u001b[0m: list index out of range"
     ]
    }
   ],
   "source": [
    "a = [1, 2, 3]\n",
    "\n",
    "print (\"Second element = %d\" %(a[1]))\n",
    "    \n",
    "    \n",
    "    # print (\"Fourth element = %d\" %(a[3])) #კითხვა ნ2 ის კოდი\n",
    "    \n",
    "    # Throws error since there are only 3 elements in array\n",
    "print (\"Fourth element = %d\" %(a[3]))"
   ]
  },
  {
   "cell_type": "markdown",
   "metadata": {},
   "source": [
    "+ კითხვა 1: მოიყვანე რომელიმე სხვა შეცდომის დაშვების  მაგალითი.\n",
    "\n",
    "+ კითხვა 2: რა შედეგს მივიღებთ თუ კომენტარს მოვაშორებთ [კითხვა ნ2 ის კოდი] -ზე ?"
   ]
  },
  {
   "cell_type": "markdown",
   "metadata": {},
   "source": [
    "## ---------------------------------------------------------------"
   ]
  },
  {
   "cell_type": "markdown",
   "metadata": {},
   "source": [
    "__მეორე მაგალითი:__"
   ]
  },
  {
   "cell_type": "markdown",
   "metadata": {},
   "source": [
    "## ---------------------------------------------------------------"
   ]
  },
  {
   "cell_type": "code",
   "execution_count": null,
   "metadata": {},
   "outputs": [],
   "source": [
    "def fun(a):\n",
    "    if a < 4:\n",
    "  \n",
    "        # throws ZeroDivisionError for a = 3\n",
    "        b = a/(a-3)\n",
    "  \n",
    "    # throws NameError if a >= 4\n",
    "    print(\"Value of b = \", b)\n",
    "      \n",
    "try:\n",
    "    fun(3)\n",
    "    fun(5)\n",
    "  \n",
    "# note that braces () are necessary here for \n",
    "# multiple exceptions\n",
    "except ZeroDivisionError:\n",
    "    print(\"ZeroDivisionError Occurred and Handled\")\n",
    "except NameError:\n",
    "    print(\"NameError Occurred and Handled\")"
   ]
  },
  {
   "cell_type": "markdown",
   "metadata": {},
   "source": [
    "+ კითხვა 1: რამდენი სახის შეცდომის დაჭერა ხდება ძემოთ მოცემულ კოდში და რომლებია ისინი?\n",
    "\n",
    "- კითხვა 2: რომელ შეცდომის დამჭერს დაამატებდით ამ კოდში და რატომ?"
   ]
  },
  {
   "cell_type": "markdown",
   "metadata": {},
   "source": [
    "დავალება: მოიძიეთ ინფორმაცია python ის შეცდომების დამუშავების სხვა საკვანძო სიტყვების შესახებ.\n",
    "\n",
    "\n",
    "+ მინიშნება help(\"keywords\")"
   ]
  }
 ],
 "metadata": {
  "kernelspec": {
   "display_name": "Python 3.10.7 64-bit",
   "language": "python",
   "name": "python3"
  },
  "language_info": {
   "codemirror_mode": {
    "name": "ipython",
    "version": 3
   },
   "file_extension": ".py",
   "mimetype": "text/x-python",
   "name": "python",
   "nbconvert_exporter": "python",
   "pygments_lexer": "ipython3",
   "version": "3.10.7"
  },
  "orig_nbformat": 4,
  "vscode": {
   "interpreter": {
    "hash": "307e50677b26ebbd040de79599be88962b957af781b2bd0b1267821b823c5d50"
   }
  }
 },
 "nbformat": 4,
 "nbformat_minor": 2
}
